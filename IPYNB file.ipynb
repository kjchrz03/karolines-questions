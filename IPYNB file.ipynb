{
 "cells": [
  {
   "cell_type": "markdown",
   "id": "555e75ca",
   "metadata": {},
   "source": [
    "# Investigating a Dataset: Movies"
   ]
  },
  {
   "cell_type": "markdown",
   "id": "f41aac52",
   "metadata": {},
   "source": [
    "<ul>\n",
    "<li><a href=\"#intro\">Introduction</a></li>\n",
    "<li><a href=\"#wrangling\">Data Wrangling</a></li>\n",
    "<li><a href=\"#eda\">Exploratory Data Analysis</a></li>\n",
    "<li><a href=\"#conclusions\">Conclusions</a></li>\n",
    "</ul>"
   ]
  },
  {
   "cell_type": "markdown",
   "id": "56c06414",
   "metadata": {},
   "source": [
    "<a id='intro'></a>\n",
    "## Introduction"
   ]
  },
  {
   "cell_type": "markdown",
   "id": "15de1c35",
   "metadata": {},
   "source": [
    "What are the properties of high revenue films? Using data from The Movie Database (TMDb), I investigated the relationship between popularity, runtime, and vote average (rating) and the adjusted revenue of the films. To account for inflation, the adjusted revenue column reflects a film's revenue in 2010 dollars.\n",
    "\n",
    "> * Has film revenue changed over time?\n",
    "> * Are high revenue films more popular than low revenue films?\n",
    "> * Is there a positive relationship between runtime and revenue? Is it worth it to produce a long film?\n",
    "> * Are high revenue films highly rated?\n"
   ]
  },
  {
   "cell_type": "code",
   "execution_count": 2,
   "id": "1139a42a",
   "metadata": {},
   "outputs": [
    {
     "data": {
      "text/html": [
       "<div>\n",
       "<style scoped>\n",
       "    .dataframe tbody tr th:only-of-type {\n",
       "        vertical-align: middle;\n",
       "    }\n",
       "\n",
       "    .dataframe tbody tr th {\n",
       "        vertical-align: top;\n",
       "    }\n",
       "\n",
       "    .dataframe thead th {\n",
       "        text-align: right;\n",
       "    }\n",
       "</style>\n",
       "<table border=\"1\" class=\"dataframe\">\n",
       "  <thead>\n",
       "    <tr style=\"text-align: right;\">\n",
       "      <th></th>\n",
       "      <th>id</th>\n",
       "      <th>imdb_id</th>\n",
       "      <th>popularity</th>\n",
       "      <th>budget</th>\n",
       "      <th>revenue</th>\n",
       "      <th>original_title</th>\n",
       "      <th>cast</th>\n",
       "      <th>homepage</th>\n",
       "      <th>director</th>\n",
       "      <th>tagline</th>\n",
       "      <th>...</th>\n",
       "      <th>overview</th>\n",
       "      <th>runtime</th>\n",
       "      <th>genres</th>\n",
       "      <th>production_companies</th>\n",
       "      <th>release_date</th>\n",
       "      <th>vote_count</th>\n",
       "      <th>vote_average</th>\n",
       "      <th>release_year</th>\n",
       "      <th>budget_adj</th>\n",
       "      <th>revenue_adj</th>\n",
       "    </tr>\n",
       "  </thead>\n",
       "  <tbody>\n",
       "    <tr>\n",
       "      <th>0</th>\n",
       "      <td>135397</td>\n",
       "      <td>tt0369610</td>\n",
       "      <td>32.985763</td>\n",
       "      <td>150000000</td>\n",
       "      <td>1513528810</td>\n",
       "      <td>Jurassic World</td>\n",
       "      <td>Chris Pratt|Bryce Dallas Howard|Irrfan Khan|Vi...</td>\n",
       "      <td>http://www.jurassicworld.com/</td>\n",
       "      <td>Colin Trevorrow</td>\n",
       "      <td>The park is open.</td>\n",
       "      <td>...</td>\n",
       "      <td>Twenty-two years after the events of Jurassic ...</td>\n",
       "      <td>124</td>\n",
       "      <td>Action|Adventure|Science Fiction|Thriller</td>\n",
       "      <td>Universal Studios|Amblin Entertainment|Legenda...</td>\n",
       "      <td>6/9/2015</td>\n",
       "      <td>5562</td>\n",
       "      <td>6.5</td>\n",
       "      <td>2015</td>\n",
       "      <td>137999939.3</td>\n",
       "      <td>1.392446e+09</td>\n",
       "    </tr>\n",
       "  </tbody>\n",
       "</table>\n",
       "<p>1 rows × 21 columns</p>\n",
       "</div>"
      ],
      "text/plain": [
       "       id    imdb_id  popularity     budget     revenue  original_title  \\\n",
       "0  135397  tt0369610   32.985763  150000000  1513528810  Jurassic World   \n",
       "\n",
       "                                                cast  \\\n",
       "0  Chris Pratt|Bryce Dallas Howard|Irrfan Khan|Vi...   \n",
       "\n",
       "                        homepage         director            tagline  ...  \\\n",
       "0  http://www.jurassicworld.com/  Colin Trevorrow  The park is open.  ...   \n",
       "\n",
       "                                            overview runtime  \\\n",
       "0  Twenty-two years after the events of Jurassic ...     124   \n",
       "\n",
       "                                      genres  \\\n",
       "0  Action|Adventure|Science Fiction|Thriller   \n",
       "\n",
       "                                production_companies release_date vote_count  \\\n",
       "0  Universal Studios|Amblin Entertainment|Legenda...     6/9/2015       5562   \n",
       "\n",
       "   vote_average  release_year   budget_adj   revenue_adj  \n",
       "0           6.5          2015  137999939.3  1.392446e+09  \n",
       "\n",
       "[1 rows x 21 columns]"
      ]
     },
     "execution_count": 2,
     "metadata": {},
     "output_type": "execute_result"
    }
   ],
   "source": [
    "import pandas as pd\n",
    "import numpy as np\n",
    "import matplotlib.pyplot as plt\n",
    "import seaborn as sns\n",
    "%matplotlib inline\n",
    "\n",
    "df_movies = pd.read_csv(r\"C:\\Users\\bsear\\Desktop\\Class Assignments\\movies.csv\")\n",
    "df_movies.head(1)"
   ]
  },
  {
   "cell_type": "markdown",
   "id": "af8e292c",
   "metadata": {},
   "source": [
    "___"
   ]
  },
  {
   "cell_type": "markdown",
   "id": "e1d7a2e2",
   "metadata": {},
   "source": [
    "<a id='wrangling'></a>\n",
    "## Data Wrangling\n",
    "\n",
    "> A quick review of the dataset tells me what data types I have, if there are null values, and what kind of clean-up, if any, is needed before evaluation.\n",
    "\n",
    "> At first glance, it appears that all of the variables I want to investigate are populated with data. Before I take a closer look at those columns, I removed the columns \"ID\", \"IMDB ID\", \"Homepage\", \"Tagline\", and \"Overview\". Since I am not using those variables in my evaluation, I took those out in order to keep the dataframe tidy and easy to read.\n",
    "\n",
    "> I kept other columns, such as titles, directors, cast, genres, production companies, and release dates in case those variables provide additional insights later on.\n",
    "\n",
    "> After closer inspection, I had to clean the runtime and adjusted revenue columns."
   ]
  },
  {
   "cell_type": "code",
   "execution_count": 3,
   "id": "83fb30ee",
   "metadata": {},
   "outputs": [
    {
     "name": "stdout",
     "output_type": "stream",
     "text": [
      "<class 'pandas.core.frame.DataFrame'>\n",
      "RangeIndex: 10866 entries, 0 to 10865\n",
      "Data columns (total 21 columns):\n",
      " #   Column                Non-Null Count  Dtype  \n",
      "---  ------                --------------  -----  \n",
      " 0   id                    10866 non-null  int64  \n",
      " 1   imdb_id               10856 non-null  object \n",
      " 2   popularity            10866 non-null  float64\n",
      " 3   budget                10866 non-null  int64  \n",
      " 4   revenue               10866 non-null  int64  \n",
      " 5   original_title        10866 non-null  object \n",
      " 6   cast                  10790 non-null  object \n",
      " 7   homepage              2936 non-null   object \n",
      " 8   director              10822 non-null  object \n",
      " 9   tagline               8042 non-null   object \n",
      " 10  keywords              9373 non-null   object \n",
      " 11  overview              10862 non-null  object \n",
      " 12  runtime               10866 non-null  int64  \n",
      " 13  genres                10843 non-null  object \n",
      " 14  production_companies  9836 non-null   object \n",
      " 15  release_date          10866 non-null  object \n",
      " 16  vote_count            10866 non-null  int64  \n",
      " 17  vote_average          10866 non-null  float64\n",
      " 18  release_year          10866 non-null  int64  \n",
      " 19  budget_adj            10866 non-null  float64\n",
      " 20  revenue_adj           10866 non-null  float64\n",
      "dtypes: float64(4), int64(6), object(11)\n",
      "memory usage: 1.7+ MB\n"
     ]
    }
   ],
   "source": [
    "#what does my dataset look like?\n",
    "df_movies.info()"
   ]
  },
  {
   "cell_type": "code",
   "execution_count": 4,
   "id": "663a416f",
   "metadata": {},
   "outputs": [
    {
     "data": {
      "text/html": [
       "<div>\n",
       "<style scoped>\n",
       "    .dataframe tbody tr th:only-of-type {\n",
       "        vertical-align: middle;\n",
       "    }\n",
       "\n",
       "    .dataframe tbody tr th {\n",
       "        vertical-align: top;\n",
       "    }\n",
       "\n",
       "    .dataframe thead th {\n",
       "        text-align: right;\n",
       "    }\n",
       "</style>\n",
       "<table border=\"1\" class=\"dataframe\">\n",
       "  <thead>\n",
       "    <tr style=\"text-align: right;\">\n",
       "      <th></th>\n",
       "      <th>popularity</th>\n",
       "      <th>budget</th>\n",
       "      <th>revenue</th>\n",
       "      <th>original_title</th>\n",
       "      <th>cast</th>\n",
       "      <th>director</th>\n",
       "      <th>keywords</th>\n",
       "      <th>runtime</th>\n",
       "      <th>genres</th>\n",
       "      <th>production_companies</th>\n",
       "      <th>release_date</th>\n",
       "      <th>vote_count</th>\n",
       "      <th>vote_average</th>\n",
       "      <th>release_year</th>\n",
       "      <th>budget_adj</th>\n",
       "      <th>revenue_adj</th>\n",
       "    </tr>\n",
       "  </thead>\n",
       "  <tbody>\n",
       "    <tr>\n",
       "      <th>0</th>\n",
       "      <td>32.985763</td>\n",
       "      <td>150000000</td>\n",
       "      <td>1513528810</td>\n",
       "      <td>Jurassic World</td>\n",
       "      <td>Chris Pratt|Bryce Dallas Howard|Irrfan Khan|Vi...</td>\n",
       "      <td>Colin Trevorrow</td>\n",
       "      <td>monster|dna|tyrannosaurus rex|velociraptor|island</td>\n",
       "      <td>124</td>\n",
       "      <td>Action|Adventure|Science Fiction|Thriller</td>\n",
       "      <td>Universal Studios|Amblin Entertainment|Legenda...</td>\n",
       "      <td>6/9/2015</td>\n",
       "      <td>5562</td>\n",
       "      <td>6.5</td>\n",
       "      <td>2015</td>\n",
       "      <td>137999939.3</td>\n",
       "      <td>1.392446e+09</td>\n",
       "    </tr>\n",
       "    <tr>\n",
       "      <th>1</th>\n",
       "      <td>28.419936</td>\n",
       "      <td>150000000</td>\n",
       "      <td>378436354</td>\n",
       "      <td>Mad Max: Fury Road</td>\n",
       "      <td>Tom Hardy|Charlize Theron|Hugh Keays-Byrne|Nic...</td>\n",
       "      <td>George Miller</td>\n",
       "      <td>future|chase|post-apocalyptic|dystopia|australia</td>\n",
       "      <td>120</td>\n",
       "      <td>Action|Adventure|Science Fiction|Thriller</td>\n",
       "      <td>Village Roadshow Pictures|Kennedy Miller Produ...</td>\n",
       "      <td>5/13/2015</td>\n",
       "      <td>6185</td>\n",
       "      <td>7.1</td>\n",
       "      <td>2015</td>\n",
       "      <td>137999939.3</td>\n",
       "      <td>3.481613e+08</td>\n",
       "    </tr>\n",
       "    <tr>\n",
       "      <th>2</th>\n",
       "      <td>13.112507</td>\n",
       "      <td>110000000</td>\n",
       "      <td>295238201</td>\n",
       "      <td>Insurgent</td>\n",
       "      <td>Shailene Woodley|Theo James|Kate Winslet|Ansel...</td>\n",
       "      <td>Robert Schwentke</td>\n",
       "      <td>based on novel|revolution|dystopia|sequel|dyst...</td>\n",
       "      <td>119</td>\n",
       "      <td>Adventure|Science Fiction|Thriller</td>\n",
       "      <td>Summit Entertainment|Mandeville Films|Red Wago...</td>\n",
       "      <td>3/18/2015</td>\n",
       "      <td>2480</td>\n",
       "      <td>6.3</td>\n",
       "      <td>2015</td>\n",
       "      <td>101199955.5</td>\n",
       "      <td>2.716190e+08</td>\n",
       "    </tr>\n",
       "    <tr>\n",
       "      <th>3</th>\n",
       "      <td>11.173104</td>\n",
       "      <td>200000000</td>\n",
       "      <td>2068178225</td>\n",
       "      <td>Star Wars: The Force Awakens</td>\n",
       "      <td>Harrison Ford|Mark Hamill|Carrie Fisher|Adam D...</td>\n",
       "      <td>J.J. Abrams</td>\n",
       "      <td>android|spaceship|jedi|space opera|3d</td>\n",
       "      <td>136</td>\n",
       "      <td>Action|Adventure|Science Fiction|Fantasy</td>\n",
       "      <td>Lucasfilm|Truenorth Productions|Bad Robot</td>\n",
       "      <td>12/15/2015</td>\n",
       "      <td>5292</td>\n",
       "      <td>7.5</td>\n",
       "      <td>2015</td>\n",
       "      <td>183999919.0</td>\n",
       "      <td>1.902723e+09</td>\n",
       "    </tr>\n",
       "    <tr>\n",
       "      <th>4</th>\n",
       "      <td>9.335014</td>\n",
       "      <td>190000000</td>\n",
       "      <td>1506249360</td>\n",
       "      <td>Furious 7</td>\n",
       "      <td>Vin Diesel|Paul Walker|Jason Statham|Michelle ...</td>\n",
       "      <td>James Wan</td>\n",
       "      <td>car race|speed|revenge|suspense|car</td>\n",
       "      <td>137</td>\n",
       "      <td>Action|Crime|Thriller</td>\n",
       "      <td>Universal Pictures|Original Film|Media Rights ...</td>\n",
       "      <td>4/1/2015</td>\n",
       "      <td>2947</td>\n",
       "      <td>7.3</td>\n",
       "      <td>2015</td>\n",
       "      <td>174799923.1</td>\n",
       "      <td>1.385749e+09</td>\n",
       "    </tr>\n",
       "  </tbody>\n",
       "</table>\n",
       "</div>"
      ],
      "text/plain": [
       "   popularity     budget     revenue                original_title  \\\n",
       "0   32.985763  150000000  1513528810                Jurassic World   \n",
       "1   28.419936  150000000   378436354            Mad Max: Fury Road   \n",
       "2   13.112507  110000000   295238201                     Insurgent   \n",
       "3   11.173104  200000000  2068178225  Star Wars: The Force Awakens   \n",
       "4    9.335014  190000000  1506249360                     Furious 7   \n",
       "\n",
       "                                                cast          director  \\\n",
       "0  Chris Pratt|Bryce Dallas Howard|Irrfan Khan|Vi...   Colin Trevorrow   \n",
       "1  Tom Hardy|Charlize Theron|Hugh Keays-Byrne|Nic...     George Miller   \n",
       "2  Shailene Woodley|Theo James|Kate Winslet|Ansel...  Robert Schwentke   \n",
       "3  Harrison Ford|Mark Hamill|Carrie Fisher|Adam D...       J.J. Abrams   \n",
       "4  Vin Diesel|Paul Walker|Jason Statham|Michelle ...         James Wan   \n",
       "\n",
       "                                            keywords  runtime  \\\n",
       "0  monster|dna|tyrannosaurus rex|velociraptor|island      124   \n",
       "1   future|chase|post-apocalyptic|dystopia|australia      120   \n",
       "2  based on novel|revolution|dystopia|sequel|dyst...      119   \n",
       "3              android|spaceship|jedi|space opera|3d      136   \n",
       "4                car race|speed|revenge|suspense|car      137   \n",
       "\n",
       "                                      genres  \\\n",
       "0  Action|Adventure|Science Fiction|Thriller   \n",
       "1  Action|Adventure|Science Fiction|Thriller   \n",
       "2         Adventure|Science Fiction|Thriller   \n",
       "3   Action|Adventure|Science Fiction|Fantasy   \n",
       "4                      Action|Crime|Thriller   \n",
       "\n",
       "                                production_companies release_date  vote_count  \\\n",
       "0  Universal Studios|Amblin Entertainment|Legenda...     6/9/2015        5562   \n",
       "1  Village Roadshow Pictures|Kennedy Miller Produ...    5/13/2015        6185   \n",
       "2  Summit Entertainment|Mandeville Films|Red Wago...    3/18/2015        2480   \n",
       "3          Lucasfilm|Truenorth Productions|Bad Robot   12/15/2015        5292   \n",
       "4  Universal Pictures|Original Film|Media Rights ...     4/1/2015        2947   \n",
       "\n",
       "   vote_average  release_year   budget_adj   revenue_adj  \n",
       "0           6.5          2015  137999939.3  1.392446e+09  \n",
       "1           7.1          2015  137999939.3  3.481613e+08  \n",
       "2           6.3          2015  101199955.5  2.716190e+08  \n",
       "3           7.5          2015  183999919.0  1.902723e+09  \n",
       "4           7.3          2015  174799923.1  1.385749e+09  "
      ]
     },
     "execution_count": 4,
     "metadata": {},
     "output_type": "execute_result"
    }
   ],
   "source": [
    "#Removing extraneous data columns here\n",
    "df_movies.drop(['id', 'imdb_id', 'homepage','tagline','overview'], axis=1, inplace=True)\n",
    "df_movies.head()"
   ]
  },
  {
   "cell_type": "code",
   "execution_count": 5,
   "id": "40644c54",
   "metadata": {},
   "outputs": [
    {
     "data": {
      "text/plain": [
       "0"
      ]
     },
     "execution_count": 5,
     "metadata": {},
     "output_type": "execute_result"
    }
   ],
   "source": [
    "#checking to see if there are duplicates and removing them\n",
    "df_movies.drop_duplicates(inplace=True)\n",
    "sum(df_movies.duplicated())"
   ]
  },
  {
   "cell_type": "code",
   "execution_count": 6,
   "id": "56bb5cf7",
   "metadata": {},
   "outputs": [
    {
     "data": {
      "text/plain": [
       "[('popularity', 0),\n",
       " ('budget', 0),\n",
       " ('revenue', 0),\n",
       " ('original_title', 0),\n",
       " ('cast', 76),\n",
       " ('director', 44),\n",
       " ('keywords', 1493),\n",
       " ('runtime', 0),\n",
       " ('genres', 23),\n",
       " ('production_companies', 1030),\n",
       " ('release_date', 0),\n",
       " ('vote_count', 0),\n",
       " ('vote_average', 0),\n",
       " ('release_year', 0),\n",
       " ('budget_adj', 0),\n",
       " ('revenue_adj', 0)]"
      ]
     },
     "execution_count": 6,
     "metadata": {},
     "output_type": "execute_result"
    }
   ],
   "source": [
    "#check for null values, particularly in my chosen variables\n",
    "list(df_movies.isnull().sum().items())"
   ]
  },
  {
   "cell_type": "code",
   "execution_count": 7,
   "id": "2fdff85a",
   "metadata": {
    "scrolled": true
   },
   "outputs": [
    {
     "data": {
      "text/html": [
       "<div>\n",
       "<style scoped>\n",
       "    .dataframe tbody tr th:only-of-type {\n",
       "        vertical-align: middle;\n",
       "    }\n",
       "\n",
       "    .dataframe tbody tr th {\n",
       "        vertical-align: top;\n",
       "    }\n",
       "\n",
       "    .dataframe thead th {\n",
       "        text-align: right;\n",
       "    }\n",
       "</style>\n",
       "<table border=\"1\" class=\"dataframe\">\n",
       "  <thead>\n",
       "    <tr style=\"text-align: right;\">\n",
       "      <th></th>\n",
       "      <th>popularity</th>\n",
       "      <th>budget</th>\n",
       "      <th>revenue</th>\n",
       "      <th>runtime</th>\n",
       "      <th>vote_count</th>\n",
       "      <th>vote_average</th>\n",
       "      <th>release_year</th>\n",
       "      <th>budget_adj</th>\n",
       "      <th>revenue_adj</th>\n",
       "    </tr>\n",
       "  </thead>\n",
       "  <tbody>\n",
       "    <tr>\n",
       "      <th>count</th>\n",
       "      <td>10865.000000</td>\n",
       "      <td>1.086500e+04</td>\n",
       "      <td>1.086500e+04</td>\n",
       "      <td>10865.000000</td>\n",
       "      <td>10865.000000</td>\n",
       "      <td>10865.000000</td>\n",
       "      <td>10865.000000</td>\n",
       "      <td>1.086500e+04</td>\n",
       "      <td>1.086500e+04</td>\n",
       "    </tr>\n",
       "    <tr>\n",
       "      <th>mean</th>\n",
       "      <td>0.646446</td>\n",
       "      <td>1.462429e+07</td>\n",
       "      <td>3.982690e+07</td>\n",
       "      <td>102.071790</td>\n",
       "      <td>217.399632</td>\n",
       "      <td>5.975012</td>\n",
       "      <td>2001.321859</td>\n",
       "      <td>1.754989e+07</td>\n",
       "      <td>5.136900e+07</td>\n",
       "    </tr>\n",
       "    <tr>\n",
       "      <th>std</th>\n",
       "      <td>1.000231</td>\n",
       "      <td>3.091428e+07</td>\n",
       "      <td>1.170083e+08</td>\n",
       "      <td>31.382701</td>\n",
       "      <td>575.644627</td>\n",
       "      <td>0.935138</td>\n",
       "      <td>12.813260</td>\n",
       "      <td>3.430753e+07</td>\n",
       "      <td>1.446383e+08</td>\n",
       "    </tr>\n",
       "    <tr>\n",
       "      <th>min</th>\n",
       "      <td>0.000065</td>\n",
       "      <td>0.000000e+00</td>\n",
       "      <td>0.000000e+00</td>\n",
       "      <td>0.000000</td>\n",
       "      <td>10.000000</td>\n",
       "      <td>1.500000</td>\n",
       "      <td>1960.000000</td>\n",
       "      <td>0.000000e+00</td>\n",
       "      <td>0.000000e+00</td>\n",
       "    </tr>\n",
       "    <tr>\n",
       "      <th>25%</th>\n",
       "      <td>0.207575</td>\n",
       "      <td>0.000000e+00</td>\n",
       "      <td>0.000000e+00</td>\n",
       "      <td>90.000000</td>\n",
       "      <td>17.000000</td>\n",
       "      <td>5.400000</td>\n",
       "      <td>1995.000000</td>\n",
       "      <td>0.000000e+00</td>\n",
       "      <td>0.000000e+00</td>\n",
       "    </tr>\n",
       "    <tr>\n",
       "      <th>50%</th>\n",
       "      <td>0.383831</td>\n",
       "      <td>0.000000e+00</td>\n",
       "      <td>0.000000e+00</td>\n",
       "      <td>99.000000</td>\n",
       "      <td>38.000000</td>\n",
       "      <td>6.000000</td>\n",
       "      <td>2006.000000</td>\n",
       "      <td>0.000000e+00</td>\n",
       "      <td>0.000000e+00</td>\n",
       "    </tr>\n",
       "    <tr>\n",
       "      <th>75%</th>\n",
       "      <td>0.713857</td>\n",
       "      <td>1.500000e+07</td>\n",
       "      <td>2.400000e+07</td>\n",
       "      <td>111.000000</td>\n",
       "      <td>146.000000</td>\n",
       "      <td>6.600000</td>\n",
       "      <td>2011.000000</td>\n",
       "      <td>2.085325e+07</td>\n",
       "      <td>3.370173e+07</td>\n",
       "    </tr>\n",
       "    <tr>\n",
       "      <th>max</th>\n",
       "      <td>32.985763</td>\n",
       "      <td>4.250000e+08</td>\n",
       "      <td>2.781506e+09</td>\n",
       "      <td>900.000000</td>\n",
       "      <td>9767.000000</td>\n",
       "      <td>9.200000</td>\n",
       "      <td>2015.000000</td>\n",
       "      <td>4.250000e+08</td>\n",
       "      <td>2.827124e+09</td>\n",
       "    </tr>\n",
       "  </tbody>\n",
       "</table>\n",
       "</div>"
      ],
      "text/plain": [
       "         popularity        budget       revenue       runtime    vote_count  \\\n",
       "count  10865.000000  1.086500e+04  1.086500e+04  10865.000000  10865.000000   \n",
       "mean       0.646446  1.462429e+07  3.982690e+07    102.071790    217.399632   \n",
       "std        1.000231  3.091428e+07  1.170083e+08     31.382701    575.644627   \n",
       "min        0.000065  0.000000e+00  0.000000e+00      0.000000     10.000000   \n",
       "25%        0.207575  0.000000e+00  0.000000e+00     90.000000     17.000000   \n",
       "50%        0.383831  0.000000e+00  0.000000e+00     99.000000     38.000000   \n",
       "75%        0.713857  1.500000e+07  2.400000e+07    111.000000    146.000000   \n",
       "max       32.985763  4.250000e+08  2.781506e+09    900.000000   9767.000000   \n",
       "\n",
       "       vote_average  release_year    budget_adj   revenue_adj  \n",
       "count  10865.000000  10865.000000  1.086500e+04  1.086500e+04  \n",
       "mean       5.975012   2001.321859  1.754989e+07  5.136900e+07  \n",
       "std        0.935138     12.813260  3.430753e+07  1.446383e+08  \n",
       "min        1.500000   1960.000000  0.000000e+00  0.000000e+00  \n",
       "25%        5.400000   1995.000000  0.000000e+00  0.000000e+00  \n",
       "50%        6.000000   2006.000000  0.000000e+00  0.000000e+00  \n",
       "75%        6.600000   2011.000000  2.085325e+07  3.370173e+07  \n",
       "max        9.200000   2015.000000  4.250000e+08  2.827124e+09  "
      ]
     },
     "execution_count": 7,
     "metadata": {},
     "output_type": "execute_result"
    }
   ],
   "source": [
    "#before starting my analysis, I want to investigate the lack of null-values just a little more.\n",
    "#this serves as a double check.\n",
    "df_movies.describe()"
   ]
  },
  {
   "cell_type": "code",
   "execution_count": 8,
   "id": "f964ea49",
   "metadata": {},
   "outputs": [
    {
     "data": {
      "text/html": [
       "<div>\n",
       "<style scoped>\n",
       "    .dataframe tbody tr th:only-of-type {\n",
       "        vertical-align: middle;\n",
       "    }\n",
       "\n",
       "    .dataframe tbody tr th {\n",
       "        vertical-align: top;\n",
       "    }\n",
       "\n",
       "    .dataframe thead th {\n",
       "        text-align: right;\n",
       "    }\n",
       "</style>\n",
       "<table border=\"1\" class=\"dataframe\">\n",
       "  <thead>\n",
       "    <tr style=\"text-align: right;\">\n",
       "      <th></th>\n",
       "      <th>popularity</th>\n",
       "      <th>budget</th>\n",
       "      <th>revenue</th>\n",
       "      <th>original_title</th>\n",
       "      <th>cast</th>\n",
       "      <th>director</th>\n",
       "      <th>keywords</th>\n",
       "      <th>runtime</th>\n",
       "      <th>genres</th>\n",
       "      <th>production_companies</th>\n",
       "      <th>release_date</th>\n",
       "      <th>vote_count</th>\n",
       "      <th>vote_average</th>\n",
       "      <th>release_year</th>\n",
       "      <th>budget_adj</th>\n",
       "      <th>revenue_adj</th>\n",
       "    </tr>\n",
       "  </thead>\n",
       "  <tbody>\n",
       "    <tr>\n",
       "      <th>130</th>\n",
       "      <td>1.284541</td>\n",
       "      <td>0</td>\n",
       "      <td>4719695</td>\n",
       "      <td>True Story</td>\n",
       "      <td>Jonah Hill|James Franco|Felicity Jones|Maria D...</td>\n",
       "      <td>Rupert Goold</td>\n",
       "      <td>NaN</td>\n",
       "      <td>100</td>\n",
       "      <td>Crime|Drama|Mystery</td>\n",
       "      <td>Plan B Entertainment|Regency Enterprises|New R...</td>\n",
       "      <td>4/17/2015</td>\n",
       "      <td>354</td>\n",
       "      <td>6.0</td>\n",
       "      <td>2015</td>\n",
       "      <td>0.0</td>\n",
       "      <td>4342117.489</td>\n",
       "    </tr>\n",
       "  </tbody>\n",
       "</table>\n",
       "</div>"
      ],
      "text/plain": [
       "     popularity  budget  revenue original_title  \\\n",
       "130    1.284541       0  4719695     True Story   \n",
       "\n",
       "                                                  cast      director keywords  \\\n",
       "130  Jonah Hill|James Franco|Felicity Jones|Maria D...  Rupert Goold      NaN   \n",
       "\n",
       "     runtime               genres  \\\n",
       "130      100  Crime|Drama|Mystery   \n",
       "\n",
       "                                  production_companies release_date  \\\n",
       "130  Plan B Entertainment|Regency Enterprises|New R...    4/17/2015   \n",
       "\n",
       "     vote_count  vote_average  release_year  budget_adj  revenue_adj  \n",
       "130         354           6.0          2015         0.0  4342117.489  "
      ]
     },
     "execution_count": 8,
     "metadata": {},
     "output_type": "execute_result"
    }
   ],
   "source": [
    "#even though the previous null data check came back as 0 for my chosen variables, the describe function shows\n",
    "#that my minimum value for revenue_adj is 0 - which seems odd. Here I take a closer look\n",
    "null_data=df_movies[df_movies.isnull().any(axis=1)]\n",
    "null_data.head(1)"
   ]
  },
  {
   "cell_type": "code",
   "execution_count": 9,
   "id": "5c48c536",
   "metadata": {},
   "outputs": [
    {
     "data": {
      "text/html": [
       "<div>\n",
       "<style scoped>\n",
       "    .dataframe tbody tr th:only-of-type {\n",
       "        vertical-align: middle;\n",
       "    }\n",
       "\n",
       "    .dataframe tbody tr th {\n",
       "        vertical-align: top;\n",
       "    }\n",
       "\n",
       "    .dataframe thead th {\n",
       "        text-align: right;\n",
       "    }\n",
       "</style>\n",
       "<table border=\"1\" class=\"dataframe\">\n",
       "  <thead>\n",
       "    <tr style=\"text-align: right;\">\n",
       "      <th></th>\n",
       "      <th>popularity</th>\n",
       "      <th>budget</th>\n",
       "      <th>revenue</th>\n",
       "      <th>original_title</th>\n",
       "      <th>cast</th>\n",
       "      <th>director</th>\n",
       "      <th>keywords</th>\n",
       "      <th>runtime</th>\n",
       "      <th>genres</th>\n",
       "      <th>production_companies</th>\n",
       "      <th>release_date</th>\n",
       "      <th>vote_count</th>\n",
       "      <th>vote_average</th>\n",
       "      <th>release_year</th>\n",
       "      <th>budget_adj</th>\n",
       "      <th>revenue_adj</th>\n",
       "    </tr>\n",
       "  </thead>\n",
       "  <tbody>\n",
       "    <tr>\n",
       "      <th>92</th>\n",
       "      <td>1.876037</td>\n",
       "      <td>0</td>\n",
       "      <td>0</td>\n",
       "      <td>Mythica: The Necromancer</td>\n",
       "      <td>Melanie Stone|Adam Johnson|Kevin Sorbo|Nicola ...</td>\n",
       "      <td>A. Todd Smith</td>\n",
       "      <td>sword|magic|sorcery|necromancer</td>\n",
       "      <td>0</td>\n",
       "      <td>Fantasy|Action|Adventure</td>\n",
       "      <td>Arrowstorm Entertainment|Camera 40 Productions...</td>\n",
       "      <td>12/19/2015</td>\n",
       "      <td>11</td>\n",
       "      <td>5.4</td>\n",
       "      <td>2015</td>\n",
       "      <td>0.0</td>\n",
       "      <td>0.0</td>\n",
       "    </tr>\n",
       "  </tbody>\n",
       "</table>\n",
       "</div>"
      ],
      "text/plain": [
       "    popularity  budget  revenue            original_title  \\\n",
       "92    1.876037       0        0  Mythica: The Necromancer   \n",
       "\n",
       "                                                 cast       director  \\\n",
       "92  Melanie Stone|Adam Johnson|Kevin Sorbo|Nicola ...  A. Todd Smith   \n",
       "\n",
       "                           keywords  runtime                    genres  \\\n",
       "92  sword|magic|sorcery|necromancer        0  Fantasy|Action|Adventure   \n",
       "\n",
       "                                 production_companies release_date  \\\n",
       "92  Arrowstorm Entertainment|Camera 40 Productions...   12/19/2015   \n",
       "\n",
       "    vote_count  vote_average  release_year  budget_adj  revenue_adj  \n",
       "92          11           5.4          2015         0.0          0.0  "
      ]
     },
     "execution_count": 9,
     "metadata": {},
     "output_type": "execute_result"
    }
   ],
   "source": [
    "#why does the runtime column have 0 as a minimum runtime?\n",
    "df_movies[df_movies['runtime']==df_movies['runtime'].min()].head(1)"
   ]
  },
  {
   "cell_type": "code",
   "execution_count": 10,
   "id": "5a55fef0",
   "metadata": {},
   "outputs": [
    {
     "data": {
      "text/plain": [
       "count    10834.000000\n",
       "mean       102.363855\n",
       "std         30.948225\n",
       "min          2.000000\n",
       "25%         90.000000\n",
       "50%         99.000000\n",
       "75%        112.000000\n",
       "max        900.000000\n",
       "Name: runtime, dtype: float64"
      ]
     },
     "execution_count": 10,
     "metadata": {},
     "output_type": "execute_result"
    }
   ],
   "source": [
    "#The other variables in the table indicate that those films with \"0\" runtime must actually be null values\n",
    "#Here I replaced the '0' values with null\n",
    "df_movies['runtime'].replace(0, np.nan, inplace=True)\n",
    "df_movies['runtime'].describe()"
   ]
  },
  {
   "cell_type": "code",
   "execution_count": 11,
   "id": "8cd2524c",
   "metadata": {},
   "outputs": [
    {
     "data": {
      "text/plain": [
       "count    10865.000000\n",
       "mean       102.363855\n",
       "std         30.904039\n",
       "min          2.000000\n",
       "25%         90.000000\n",
       "50%         99.000000\n",
       "75%        111.000000\n",
       "max        900.000000\n",
       "Name: runtime, dtype: float64"
      ]
     },
     "execution_count": 11,
     "metadata": {},
     "output_type": "execute_result"
    }
   ],
   "source": [
    "#this is a variable I plan to use in my analysis, so I am replacing those null values with the mean runtime\n",
    "#this allows me to compare the same number of movies across my variables\n",
    "runtime_mean=df_movies['runtime'].mean()\n",
    "df_movies['runtime'].fillna(runtime_mean, inplace = True)\n",
    "df_movies['runtime'].describe()"
   ]
  },
  {
   "cell_type": "code",
   "execution_count": 12,
   "id": "7b6f7613",
   "metadata": {},
   "outputs": [
    {
     "data": {
      "text/html": [
       "<div>\n",
       "<style scoped>\n",
       "    .dataframe tbody tr th:only-of-type {\n",
       "        vertical-align: middle;\n",
       "    }\n",
       "\n",
       "    .dataframe tbody tr th {\n",
       "        vertical-align: top;\n",
       "    }\n",
       "\n",
       "    .dataframe thead th {\n",
       "        text-align: right;\n",
       "    }\n",
       "</style>\n",
       "<table border=\"1\" class=\"dataframe\">\n",
       "  <thead>\n",
       "    <tr style=\"text-align: right;\">\n",
       "      <th></th>\n",
       "      <th>popularity</th>\n",
       "      <th>budget</th>\n",
       "      <th>revenue</th>\n",
       "      <th>original_title</th>\n",
       "      <th>cast</th>\n",
       "      <th>director</th>\n",
       "      <th>keywords</th>\n",
       "      <th>runtime</th>\n",
       "      <th>genres</th>\n",
       "      <th>production_companies</th>\n",
       "      <th>release_date</th>\n",
       "      <th>vote_count</th>\n",
       "      <th>vote_average</th>\n",
       "      <th>release_year</th>\n",
       "      <th>budget_adj</th>\n",
       "      <th>revenue_adj</th>\n",
       "    </tr>\n",
       "  </thead>\n",
       "  <tbody>\n",
       "    <tr>\n",
       "      <th>48</th>\n",
       "      <td>2.93234</td>\n",
       "      <td>30000000</td>\n",
       "      <td>0</td>\n",
       "      <td>Wild Card</td>\n",
       "      <td>Jason Statham|Michael Angarano|Milo Ventimigli...</td>\n",
       "      <td>Simon West</td>\n",
       "      <td>gambling|bodyguard|remake</td>\n",
       "      <td>92.0</td>\n",
       "      <td>Thriller|Crime|Drama</td>\n",
       "      <td>Current Entertainment|Lionsgate|Sierra / Affin...</td>\n",
       "      <td>1/14/2015</td>\n",
       "      <td>481</td>\n",
       "      <td>5.3</td>\n",
       "      <td>2015</td>\n",
       "      <td>27599987.86</td>\n",
       "      <td>0.0</td>\n",
       "    </tr>\n",
       "  </tbody>\n",
       "</table>\n",
       "</div>"
      ],
      "text/plain": [
       "    popularity    budget  revenue original_title  \\\n",
       "48     2.93234  30000000        0      Wild Card   \n",
       "\n",
       "                                                 cast    director  \\\n",
       "48  Jason Statham|Michael Angarano|Milo Ventimigli...  Simon West   \n",
       "\n",
       "                     keywords  runtime                genres  \\\n",
       "48  gambling|bodyguard|remake     92.0  Thriller|Crime|Drama   \n",
       "\n",
       "                                 production_companies release_date  \\\n",
       "48  Current Entertainment|Lionsgate|Sierra / Affin...    1/14/2015   \n",
       "\n",
       "    vote_count  vote_average  release_year   budget_adj  revenue_adj  \n",
       "48         481           5.3          2015  27599987.86          0.0  "
      ]
     },
     "execution_count": 12,
     "metadata": {},
     "output_type": "execute_result"
    }
   ],
   "source": [
    "#why does the adjusted revenue column have 0 as a minimum value?\n",
    "#Just like with runtime, the adjusted revenue column also has '0' values where null is more appropriate\n",
    "df_movies[df_movies['revenue_adj']==df_movies['revenue_adj'].min()].head(1)"
   ]
  },
  {
   "cell_type": "code",
   "execution_count": 13,
   "id": "253e3413",
   "metadata": {},
   "outputs": [
    {
     "data": {
      "text/plain": [
       "count    4.849000e+03\n",
       "mean     1.151009e+08\n",
       "std      1.988557e+08\n",
       "min      2.370705e+00\n",
       "25%      1.046585e+07\n",
       "50%      4.395666e+07\n",
       "75%      1.316482e+08\n",
       "max      2.827124e+09\n",
       "Name: revenue_adj, dtype: float64"
      ]
     },
     "execution_count": 13,
     "metadata": {},
     "output_type": "execute_result"
    }
   ],
   "source": [
    "#The other variables in the table indicate that those films with \"0\" adjusted revenue must actually be null values\n",
    "#Here I am replacing the '0' values with null\n",
    "df_movies['revenue_adj'].replace(0, np.nan, inplace=True)\n",
    "df_movies['revenue_adj'].describe()"
   ]
  },
  {
   "cell_type": "code",
   "execution_count": 14,
   "id": "84451058",
   "metadata": {},
   "outputs": [
    {
     "data": {
      "text/plain": [
       "count    1.086500e+04\n",
       "mean     1.151009e+08\n",
       "std      1.328386e+08\n",
       "min      2.370705e+00\n",
       "25%      5.878518e+07\n",
       "50%      1.151009e+08\n",
       "75%      1.151009e+08\n",
       "max      2.827124e+09\n",
       "Name: revenue_adj, dtype: float64"
      ]
     },
     "execution_count": 14,
     "metadata": {},
     "output_type": "execute_result"
    }
   ],
   "source": [
    "#Now I am determining the mean adjusted revenue and replacing the null values with the mean\n",
    "revenue_adj_mean=df_movies['revenue_adj'].mean()\n",
    "df_movies['revenue_adj'].fillna(revenue_adj_mean, inplace = True)\n",
    "df_movies['revenue_adj'].describe()"
   ]
  },
  {
   "cell_type": "code",
   "execution_count": 15,
   "id": "18efa305",
   "metadata": {},
   "outputs": [
    {
     "name": "stdout",
     "output_type": "stream",
     "text": [
      "<class 'pandas.core.frame.DataFrame'>\n",
      "Int64Index: 10865 entries, 0 to 10865\n",
      "Data columns (total 16 columns):\n",
      " #   Column                Non-Null Count  Dtype  \n",
      "---  ------                --------------  -----  \n",
      " 0   popularity            10865 non-null  float64\n",
      " 1   budget                10865 non-null  int64  \n",
      " 2   revenue               10865 non-null  int64  \n",
      " 3   original_title        10865 non-null  object \n",
      " 4   cast                  10789 non-null  object \n",
      " 5   director              10821 non-null  object \n",
      " 6   keywords              9372 non-null   object \n",
      " 7   runtime               10865 non-null  float64\n",
      " 8   genres                10842 non-null  object \n",
      " 9   production_companies  9835 non-null   object \n",
      " 10  release_date          10865 non-null  object \n",
      " 11  vote_count            10865 non-null  int64  \n",
      " 12  vote_average          10865 non-null  float64\n",
      " 13  release_year          10865 non-null  int64  \n",
      " 14  budget_adj            10865 non-null  float64\n",
      " 15  revenue_adj           10865 non-null  float64\n",
      "dtypes: float64(5), int64(4), object(7)\n",
      "memory usage: 1.4+ MB\n"
     ]
    }
   ],
   "source": [
    "#now I have the same number of non-null values for the characteristics I want to test.\n",
    "df_movies.info()"
   ]
  },
  {
   "cell_type": "markdown",
   "id": "ea4c0a99",
   "metadata": {},
   "source": [
    "___"
   ]
  },
  {
   "cell_type": "markdown",
   "id": "23c04732",
   "metadata": {},
   "source": [
    "<a id='eda'></a>\n",
    "## Exploratory Data Analysis\n",
    "\n",
    "> After an initial cleanup of my data, I can now begin my data analysis to answer my research questions:\n",
    "\n",
    "<ul>\n",
    "<li><a href=\"#q1\">1. Has film revenue changed over time?</a></li>\n",
    "<li><a href=\"#q2\">2. Are high revenue films more popular than low revenue films?</a></li>\n",
    "<li><a href=\"#q3\">3. Is there a positive relationship between runtime and revenue?</a></li>\n",
    "<li><a href=\"#q4\">4. Are high revenue films highly rated?</a></li>\n",
    "</ul>\n"
   ]
  },
  {
   "cell_type": "markdown",
   "id": "59d42285",
   "metadata": {},
   "source": [
    "___"
   ]
  },
  {
   "cell_type": "markdown",
   "id": "7f32559b",
   "metadata": {},
   "source": [
    "<a id='q1'></a>\n",
    "__1. Has film revenue changed over time?__\n",
    "\n",
    "> Are movies making more money now than in the past?"
   ]
  },
  {
   "cell_type": "code",
   "execution_count": 139,
   "id": "1a86f397",
   "metadata": {},
   "outputs": [
    {
     "data": {
      "text/plain": [
       "Text(0, 0.5, 'Adjusted Revenue in 2010 Dollars')"
      ]
     },
     "execution_count": 139,
     "metadata": {},
     "output_type": "execute_result"
    },
    {
     "data": {
      "image/png": "[encoded data removed]",
      "text/plain": [
       "<Figure size 432x288 with 1 Axes>"
      ]
     },
     "metadata": {
      "needs_background": "light"
     },
     "output_type": "display_data"
    }
   ],
   "source": [
    "#initial scatter plot\n",
    "#I referenced the matplotlib.org page to learn the syntax for .set_xlabel \n",
    "film_plot = df_movies.plot(x='release_year', y='revenue_adj', \n",
    "                           title='Adjusted Revenue of Films Over Time', kind='scatter');\n",
    "film_plot.set_xlabel('Release Year')\n",
    "film_plot.set_ylabel('Adjusted Revenue in 2010 Dollars')"
   ]
  },
  {
   "cell_type": "markdown",
   "id": "34b80617",
   "metadata": {},
   "source": [
    "> This chart visually represents every film in the dataset and its adjusted revenue. At first glance, this chart shows a higher number of films produced in later decades, as well as a number of outliers in each year. It is not, however, very clear to me if there is an obvious trend in this chart. I will need to create a better visual. I have over 10,000 records, so I will need to organize the films into broader categories, such as decades."
   ]
  },
  {
   "cell_type": "code",
   "execution_count": 17,
   "id": "ccd0c5d5",
   "metadata": {},
   "outputs": [
    {
     "data": {
      "text/html": [
       "<div>\n",
       "<style scoped>\n",
       "    .dataframe tbody tr th:only-of-type {\n",
       "        vertical-align: middle;\n",
       "    }\n",
       "\n",
       "    .dataframe tbody tr th {\n",
       "        vertical-align: top;\n",
       "    }\n",
       "\n",
       "    .dataframe thead th {\n",
       "        text-align: right;\n",
       "    }\n",
       "</style>\n",
       "<table border=\"1\" class=\"dataframe\">\n",
       "  <thead>\n",
       "    <tr style=\"text-align: right;\">\n",
       "      <th></th>\n",
       "      <th>popularity</th>\n",
       "      <th>budget</th>\n",
       "      <th>revenue</th>\n",
       "      <th>original_title</th>\n",
       "      <th>cast</th>\n",
       "      <th>director</th>\n",
       "      <th>keywords</th>\n",
       "      <th>runtime</th>\n",
       "      <th>genres</th>\n",
       "      <th>production_companies</th>\n",
       "      <th>release_date</th>\n",
       "      <th>vote_count</th>\n",
       "      <th>vote_average</th>\n",
       "      <th>release_year</th>\n",
       "      <th>budget_adj</th>\n",
       "      <th>revenue_adj</th>\n",
       "      <th>release_decade</th>\n",
       "    </tr>\n",
       "  </thead>\n",
       "  <tbody>\n",
       "    <tr>\n",
       "      <th>0</th>\n",
       "      <td>32.985763</td>\n",
       "      <td>150000000</td>\n",
       "      <td>1513528810</td>\n",
       "      <td>Jurassic World</td>\n",
       "      <td>Chris Pratt|Bryce Dallas Howard|Irrfan Khan|Vi...</td>\n",
       "      <td>Colin Trevorrow</td>\n",
       "      <td>monster|dna|tyrannosaurus rex|velociraptor|island</td>\n",
       "      <td>124.0</td>\n",
       "      <td>Action|Adventure|Science Fiction|Thriller</td>\n",
       "      <td>Universal Studios|Amblin Entertainment|Legenda...</td>\n",
       "      <td>6/9/2015</td>\n",
       "      <td>5562</td>\n",
       "      <td>6.5</td>\n",
       "      <td>2015</td>\n",
       "      <td>137999939.3</td>\n",
       "      <td>1.392446e+09</td>\n",
       "      <td>2010s</td>\n",
       "    </tr>\n",
       "  </tbody>\n",
       "</table>\n",
       "</div>"
      ],
      "text/plain": [
       "   popularity     budget     revenue  original_title  \\\n",
       "0   32.985763  150000000  1513528810  Jurassic World   \n",
       "\n",
       "                                                cast         director  \\\n",
       "0  Chris Pratt|Bryce Dallas Howard|Irrfan Khan|Vi...  Colin Trevorrow   \n",
       "\n",
       "                                            keywords  runtime  \\\n",
       "0  monster|dna|tyrannosaurus rex|velociraptor|island    124.0   \n",
       "\n",
       "                                      genres  \\\n",
       "0  Action|Adventure|Science Fiction|Thriller   \n",
       "\n",
       "                                production_companies release_date  vote_count  \\\n",
       "0  Universal Studios|Amblin Entertainment|Legenda...     6/9/2015        5562   \n",
       "\n",
       "   vote_average  release_year   budget_adj   revenue_adj release_decade  \n",
       "0           6.5          2015  137999939.3  1.392446e+09          2010s  "
      ]
     },
     "execution_count": 17,
     "metadata": {},
     "output_type": "execute_result"
    }
   ],
   "source": [
    "#Here I will cut the values into decades based on release year\n",
    "bin_edges=[1960, 1970, 1980, 1990, 2000, 2010, 2020]\n",
    "bin_names=['1960s', '1970s', '1980s', '1990s', '2000s', '2010s']\n",
    "df_movies['release_decade']=pd.cut(df_movies['release_year'], bin_edges, labels=bin_names)\n",
    "df_movies.head(1) #testing what it looks like"
   ]
  },
  {
   "cell_type": "code",
   "execution_count": 140,
   "id": "e10240ea",
   "metadata": {},
   "outputs": [
    {
     "data": {
      "text/plain": [
       "Text(0, 0.5, ' ')"
      ]
     },
     "execution_count": 140,
     "metadata": {},
     "output_type": "execute_result"
    },
    {
     "data": {
      "image/png": "[encoded data removed]",
      "text/plain": [
       "<Figure size 432x288 with 1 Axes>"
      ]
     },
     "metadata": {},
     "output_type": "display_data"
    }
   ],
   "source": [
    "#pie chart visual\n",
    "film_pie = df_movies['release_decade'].value_counts().plot(kind='pie', \n",
    "                                                           title='Count of Films Released per Decade');\n",
    "film_pie.set_ylabel(\" \")"
   ]
  },
  {
   "cell_type": "markdown",
   "id": "0cc3d771",
   "metadata": {},
   "source": [
    "> In this pie chart, I wanted to see if there were more film releases in certain decades to confirm my initial impression from the scatter plot. It shows an increase in the number of films released each decade."
   ]
  },
  {
   "cell_type": "code",
   "execution_count": 19,
   "id": "bda5c760",
   "metadata": {},
   "outputs": [
    {
     "data": {
      "text/plain": [
       "release_decade\n",
       "1960s    1.486290e+08\n",
       "1970s    1.520075e+08\n",
       "1980s    1.066893e+08\n",
       "1990s    1.173703e+08\n",
       "2000s    1.118565e+08\n",
       "2010s    1.102115e+08\n",
       "Name: revenue_adj, dtype: float64"
      ]
     },
     "execution_count": 19,
     "metadata": {},
     "output_type": "execute_result"
    }
   ],
   "source": [
    "#to prepare for my descriptive bar chart, I start by calucalting\n",
    "#the mean revenue for the decades\n",
    "decade_revenue_means = df_movies.groupby('release_decade')['revenue_adj'].mean()\n",
    "decade_revenue_means"
   ]
  },
  {
   "cell_type": "code",
   "execution_count": 20,
   "id": "6452cacd",
   "metadata": {},
   "outputs": [
    {
     "data": {
      "text/plain": [
       "Text(0, 0.5, 'Mean Adjusted Revenue in 2010 Dollars')"
      ]
     },
     "execution_count": 20,
     "metadata": {},
     "output_type": "execute_result"
    },
    {
     "data": {
      "image/png": "[encoded data removed]",
      "text/plain": [
       "<Figure size 432x288 with 1 Axes>"
      ]
     },
     "metadata": {
      "needs_background": "light"
     },
     "output_type": "display_data"
    }
   ],
   "source": [
    "#then organize my data into the chart\n",
    "locations = [1,2,3,4, 5, 6]\n",
    "heights = decade_revenue_means\n",
    "labels = ['1960s', '1970s', '1980s', '1990s', '2000s', '2010s']\n",
    "plt.bar(locations, heights, tick_label=labels)\n",
    "plt.title('Mean Adjusted Revenue by Decade')\n",
    "plt.xlabel('Decade')\n",
    "plt.ylabel('Mean Adjusted Revenue in 2010 Dollars')"
   ]
  },
  {
   "cell_type": "markdown",
   "id": "3deb1499",
   "metadata": {},
   "source": [
    "> __Thought:__ It appears that, while there are more movies made in later decades, the mean adjusted revenue is higher for earlier films. I decided to create this kind of visualization to compare the adjusted revenue means. The pie chart was interesting, but it really focused on the _count_ of movies. The scatter plot showed every film and it's adjusted revenue, but looking at individual films in this way is too detailed. This bar chart is a great visual to show, regardless of number of films produced each decade, which decade had the highest mean adjusted revenue. In short, it's a single visual that answers my question."
   ]
  },
  {
   "cell_type": "markdown",
   "id": "cd736b09",
   "metadata": {},
   "source": [
    "* This is a visualization I really like and plan to use again, so I will make a function here to reduce the repetition of the lengthy code."
   ]
  },
  {
   "cell_type": "code",
   "execution_count": 40,
   "id": "83058865",
   "metadata": {},
   "outputs": [],
   "source": [
    "#defining my function\n",
    "def bar_plot(locations, heights, labels, xlabel, ylabel, title):\n",
    "    plt.bar(locations, heights, tick_label=labels)\n",
    "    plt.xlabel(xlabel)\n",
    "    plt.ylabel(ylabel)\n",
    "    plt.title(title)"
   ]
  },
  {
   "cell_type": "code",
   "execution_count": 131,
   "id": "04758030",
   "metadata": {},
   "outputs": [
    {
     "data": {
      "text/plain": [
       "['1960s', '1970s', '1980s', '1990s', '2000s', '2010s']"
      ]
     },
     "execution_count": 131,
     "metadata": {},
     "output_type": "execute_result"
    }
   ],
   "source": [
    "#creating a list of labels\n",
    "decades = list(df_movies['release_decade'].unique().dropna())\n",
    "decades.sort(reverse=False)\n",
    "decades"
   ]
  },
  {
   "cell_type": "code",
   "execution_count": 132,
   "id": "31d5e766",
   "metadata": {},
   "outputs": [
    {
     "data": {
      "image/png": "[encoded data removed]",
      "text/plain": [
       "<Figure size 432x288 with 1 Axes>"
      ]
     },
     "metadata": {
      "needs_background": "light"
     },
     "output_type": "display_data"
    }
   ],
   "source": [
    "#running my new function\n",
    "bar_plot([1,2,3,4,5,6], decade_revenue_means, decades,'Decades', \n",
    "         'Mean Adjusted Revenue in 2010 Dollars', 'Mean Adjusted Revenue by Decade')"
   ]
  },
  {
   "cell_type": "markdown",
   "id": "975683af",
   "metadata": {},
   "source": [
    "___"
   ]
  },
  {
   "cell_type": "markdown",
   "id": "e8f6942e",
   "metadata": {},
   "source": [
    "<a id='q2'></a>\n",
    "__2. Are high revenue (adj) films more popular than low revenue films?__\n",
    "\n",
    "> How popular are the high revenue films? Are they more or less popular than low revenue films?"
   ]
  },
  {
   "cell_type": "code",
   "execution_count": 63,
   "id": "b5c1407f",
   "metadata": {},
   "outputs": [
    {
     "data": {
      "text/plain": [
       "count    10865.000000\n",
       "mean         0.646446\n",
       "std          1.000231\n",
       "min          0.000065\n",
       "25%          0.207575\n",
       "50%          0.383831\n",
       "75%          0.713857\n",
       "max         32.985763\n",
       "Name: popularity, dtype: float64"
      ]
     },
     "execution_count": 63,
     "metadata": {},
     "output_type": "execute_result"
    }
   ],
   "source": [
    "#Information about the 'popularity' variable\n",
    "df_movies['popularity'].describe()"
   ]
  },
  {
   "cell_type": "code",
   "execution_count": 143,
   "id": "796d2119",
   "metadata": {},
   "outputs": [
    {
     "data": {
      "image/png": "[encoded data removed]",
      "text/plain": [
       "<Figure size 432x288 with 1 Axes>"
      ]
     },
     "metadata": {
      "needs_background": "light"
     },
     "output_type": "display_data"
    }
   ],
   "source": [
    "df_movies['popularity'].plot(kind='hist', title= \"Popularity\");"
   ]
  },
  {
   "cell_type": "code",
   "execution_count": 64,
   "id": "793567e9",
   "metadata": {},
   "outputs": [
    {
     "data": {
      "text/html": [
       "<div>\n",
       "<style scoped>\n",
       "    .dataframe tbody tr th:only-of-type {\n",
       "        vertical-align: middle;\n",
       "    }\n",
       "\n",
       "    .dataframe tbody tr th {\n",
       "        vertical-align: top;\n",
       "    }\n",
       "\n",
       "    .dataframe thead th {\n",
       "        text-align: right;\n",
       "    }\n",
       "</style>\n",
       "<table border=\"1\" class=\"dataframe\">\n",
       "  <thead>\n",
       "    <tr style=\"text-align: right;\">\n",
       "      <th></th>\n",
       "      <th>popularity</th>\n",
       "      <th>budget</th>\n",
       "      <th>revenue</th>\n",
       "      <th>original_title</th>\n",
       "      <th>cast</th>\n",
       "      <th>director</th>\n",
       "      <th>keywords</th>\n",
       "      <th>runtime</th>\n",
       "      <th>genres</th>\n",
       "      <th>production_companies</th>\n",
       "      <th>release_date</th>\n",
       "      <th>vote_count</th>\n",
       "      <th>vote_average</th>\n",
       "      <th>release_year</th>\n",
       "      <th>budget_adj</th>\n",
       "      <th>revenue_adj</th>\n",
       "      <th>release_decade</th>\n",
       "      <th>popularity_level</th>\n",
       "    </tr>\n",
       "  </thead>\n",
       "  <tbody>\n",
       "    <tr>\n",
       "      <th>6181</th>\n",
       "      <td>0.000065</td>\n",
       "      <td>0</td>\n",
       "      <td>0</td>\n",
       "      <td>North and South, Book I</td>\n",
       "      <td>Patrick Swayze|Philip Casnoff|Kirstie Alley|Ge...</td>\n",
       "      <td>NaN</td>\n",
       "      <td>NaN</td>\n",
       "      <td>561.0</td>\n",
       "      <td>Drama|History|Western</td>\n",
       "      <td>NaN</td>\n",
       "      <td>11/3/1985</td>\n",
       "      <td>17</td>\n",
       "      <td>6.0</td>\n",
       "      <td>1985</td>\n",
       "      <td>0.0</td>\n",
       "      <td>1.151009e+08</td>\n",
       "      <td>1980s</td>\n",
       "      <td>NaN</td>\n",
       "    </tr>\n",
       "  </tbody>\n",
       "</table>\n",
       "</div>"
      ],
      "text/plain": [
       "      popularity  budget  revenue           original_title  \\\n",
       "6181    0.000065       0        0  North and South, Book I   \n",
       "\n",
       "                                                   cast director keywords  \\\n",
       "6181  Patrick Swayze|Philip Casnoff|Kirstie Alley|Ge...      NaN      NaN   \n",
       "\n",
       "      runtime                 genres production_companies release_date  \\\n",
       "6181    561.0  Drama|History|Western                  NaN    11/3/1985   \n",
       "\n",
       "      vote_count  vote_average  release_year  budget_adj   revenue_adj  \\\n",
       "6181          17           6.0          1985         0.0  1.151009e+08   \n",
       "\n",
       "     release_decade popularity_level  \n",
       "6181          1980s              NaN  "
      ]
     },
     "execution_count": 64,
     "metadata": {},
     "output_type": "execute_result"
    }
   ],
   "source": [
    "#a closer look at the minimum value to better understand the variable\n",
    "df_movies[df_movies['popularity']==df_movies['popularity'].min()]"
   ]
  },
  {
   "cell_type": "code",
   "execution_count": 65,
   "id": "b98a1057",
   "metadata": {},
   "outputs": [
    {
     "data": {
      "text/plain": [
       "revenue_adj\n",
       "2.370705e+00     0.462609\n",
       "2.861934e+00     0.552091\n",
       "3.038360e+00     0.352054\n",
       "5.926763e+00     0.208637\n",
       "6.951084e+00     0.578849\n",
       "                  ...    \n",
       "1.907006e+09     2.563191\n",
       "2.167325e+09     2.010733\n",
       "2.506406e+09     4.355219\n",
       "2.789712e+09    12.037933\n",
       "2.827124e+09     9.432768\n",
       "Name: popularity, Length: 4840, dtype: float64"
      ]
     },
     "execution_count": 65,
     "metadata": {},
     "output_type": "execute_result"
    }
   ],
   "source": [
    "#Getting more information about what the 'popularity' variable means\n",
    "df_movies.groupby('revenue_adj')['popularity'].mean()"
   ]
  },
  {
   "cell_type": "markdown",
   "id": "9884d8ba",
   "metadata": {},
   "source": [
    "> In this case, I'm not sure that the variable 'popularity' is really understandable in its current format. I think I need to adjust the values into more meaningful phrases."
   ]
  },
  {
   "cell_type": "code",
   "execution_count": 66,
   "id": "5f37c6de",
   "metadata": {},
   "outputs": [
    {
     "data": {
      "text/html": [
       "<div>\n",
       "<style scoped>\n",
       "    .dataframe tbody tr th:only-of-type {\n",
       "        vertical-align: middle;\n",
       "    }\n",
       "\n",
       "    .dataframe tbody tr th {\n",
       "        vertical-align: top;\n",
       "    }\n",
       "\n",
       "    .dataframe thead th {\n",
       "        text-align: right;\n",
       "    }\n",
       "</style>\n",
       "<table border=\"1\" class=\"dataframe\">\n",
       "  <thead>\n",
       "    <tr style=\"text-align: right;\">\n",
       "      <th></th>\n",
       "      <th>popularity</th>\n",
       "      <th>budget</th>\n",
       "      <th>revenue</th>\n",
       "      <th>original_title</th>\n",
       "      <th>cast</th>\n",
       "      <th>director</th>\n",
       "      <th>keywords</th>\n",
       "      <th>runtime</th>\n",
       "      <th>genres</th>\n",
       "      <th>production_companies</th>\n",
       "      <th>release_date</th>\n",
       "      <th>vote_count</th>\n",
       "      <th>vote_average</th>\n",
       "      <th>release_year</th>\n",
       "      <th>budget_adj</th>\n",
       "      <th>revenue_adj</th>\n",
       "      <th>release_decade</th>\n",
       "      <th>popularity_level</th>\n",
       "    </tr>\n",
       "  </thead>\n",
       "  <tbody>\n",
       "    <tr>\n",
       "      <th>0</th>\n",
       "      <td>32.985763</td>\n",
       "      <td>150000000</td>\n",
       "      <td>1513528810</td>\n",
       "      <td>Jurassic World</td>\n",
       "      <td>Chris Pratt|Bryce Dallas Howard|Irrfan Khan|Vi...</td>\n",
       "      <td>Colin Trevorrow</td>\n",
       "      <td>monster|dna|tyrannosaurus rex|velociraptor|island</td>\n",
       "      <td>124.0</td>\n",
       "      <td>Action|Adventure|Science Fiction|Thriller</td>\n",
       "      <td>Universal Studios|Amblin Entertainment|Legenda...</td>\n",
       "      <td>6/9/2015</td>\n",
       "      <td>5562</td>\n",
       "      <td>6.5</td>\n",
       "      <td>2015</td>\n",
       "      <td>137999939.3</td>\n",
       "      <td>1.392446e+09</td>\n",
       "      <td>2010s</td>\n",
       "      <td>High</td>\n",
       "    </tr>\n",
       "  </tbody>\n",
       "</table>\n",
       "</div>"
      ],
      "text/plain": [
       "   popularity     budget     revenue  original_title  \\\n",
       "0   32.985763  150000000  1513528810  Jurassic World   \n",
       "\n",
       "                                                cast         director  \\\n",
       "0  Chris Pratt|Bryce Dallas Howard|Irrfan Khan|Vi...  Colin Trevorrow   \n",
       "\n",
       "                                            keywords  runtime  \\\n",
       "0  monster|dna|tyrannosaurus rex|velociraptor|island    124.0   \n",
       "\n",
       "                                      genres  \\\n",
       "0  Action|Adventure|Science Fiction|Thriller   \n",
       "\n",
       "                                production_companies release_date  vote_count  \\\n",
       "0  Universal Studios|Amblin Entertainment|Legenda...     6/9/2015        5562   \n",
       "\n",
       "   vote_average  release_year   budget_adj   revenue_adj release_decade  \\\n",
       "0           6.5          2015  137999939.3  1.392446e+09          2010s   \n",
       "\n",
       "  popularity_level  \n",
       "0             High  "
      ]
     },
     "execution_count": 66,
     "metadata": {},
     "output_type": "execute_result"
    }
   ],
   "source": [
    "#changing the values into string labels\n",
    "bin_edges=[0.000065, 0.207575, 0.383831, 32.985763]\n",
    "bin_names=['Low', 'Moderate', 'High']\n",
    "df_movies['popularity_level']=pd.cut(df_movies['popularity'], bin_edges, labels=bin_names)\n",
    "df_movies.head(1) #testing what it looks like"
   ]
  },
  {
   "cell_type": "markdown",
   "id": "06b92d06",
   "metadata": {},
   "source": [
    "> I think my new column 'popularity level' better conveys the meaning from the 'popularity' column."
   ]
  },
  {
   "cell_type": "code",
   "execution_count": 67,
   "id": "3580920a",
   "metadata": {},
   "outputs": [
    {
     "data": {
      "text/plain": [
       "popularity_level\n",
       "Low         1.013358e+08\n",
       "Moderate    9.190113e+07\n",
       "High        1.335833e+08\n",
       "Name: revenue_adj, dtype: float64"
      ]
     },
     "execution_count": 67,
     "metadata": {},
     "output_type": "execute_result"
    }
   ],
   "source": [
    "#build a visual to compare popularity and mean adjusted revenue\n",
    "popularity_revenue_means = df_movies.groupby('popularity_level')['revenue_adj'].mean()\n",
    "popularity_revenue_means"
   ]
  },
  {
   "cell_type": "code",
   "execution_count": 126,
   "id": "fc6716d3",
   "metadata": {},
   "outputs": [
    {
     "data": {
      "text/plain": [
       "['Low', 'Moderate', 'High']"
      ]
     },
     "execution_count": 126,
     "metadata": {},
     "output_type": "execute_result"
    }
   ],
   "source": [
    "#creating a list of labels\n",
    "popularity_level = ['Low', 'Moderate', 'High']\n",
    "popularity_level"
   ]
  },
  {
   "cell_type": "code",
   "execution_count": 127,
   "id": "bca89106",
   "metadata": {},
   "outputs": [
    {
     "data": {
      "image/png": "[encoded data removed]",
      "text/plain": [
       "<Figure size 432x288 with 1 Axes>"
      ]
     },
     "metadata": {
      "needs_background": "light"
     },
     "output_type": "display_data"
    }
   ],
   "source": [
    "#running my new function\n",
    "bar_plot([1,2,3], popularity_revenue_means, popularity_level,'Popularity Level', 'Mean Adjusted Revenue in 2010 Dollars', \n",
    "         'Popularity of Films and Mean Adjusted Revenue')"
   ]
  },
  {
   "cell_type": "markdown",
   "id": "348515ba",
   "metadata": {},
   "source": [
    "> __Thought:__ Just like in my first question, I wanted to create a bar graph to answer my question. It's an easy way to see the difference in popularity levels and film revenue, regardess of the number of films produced. It's not particularly surprising that highly popular films also bring in the most revenues. It's interesting, however, that low popularity films make more revenue than moderatly popular films. "
   ]
  },
  {
   "cell_type": "markdown",
   "id": "0d31daaa",
   "metadata": {},
   "source": [
    "____"
   ]
  },
  {
   "cell_type": "markdown",
   "id": "4725d8f4",
   "metadata": {},
   "source": [
    "__3. Is there a positive relationship between runtime and revenue (adj)?__\n",
    "\n",
    "> Do long movies make more money?"
   ]
  },
  {
   "cell_type": "code",
   "execution_count": 70,
   "id": "de4bff69",
   "metadata": {},
   "outputs": [
    {
     "data": {
      "text/plain": [
       "count    10865.000000\n",
       "mean       102.363855\n",
       "std         30.904039\n",
       "min          2.000000\n",
       "25%         90.000000\n",
       "50%         99.000000\n",
       "75%        111.000000\n",
       "max        900.000000\n",
       "Name: runtime, dtype: float64"
      ]
     },
     "execution_count": 70,
     "metadata": {},
     "output_type": "execute_result"
    }
   ],
   "source": [
    "#Descriptive stats on the 'runtime' variable\n",
    "df_movies['runtime'].describe()"
   ]
  },
  {
   "cell_type": "markdown",
   "id": "9a6577f3",
   "metadata": {},
   "source": [
    "> Just like 'popularity', I think looking at the length of a film in terms of minutes might not be meaningful\n",
    "#to people reading the information. For example, it's easier to understand what 1 hour 40 minutes means\n",
    "#in terms of movie length compared to 100 minutes."
   ]
  },
  {
   "cell_type": "code",
   "execution_count": 144,
   "id": "af21be18",
   "metadata": {},
   "outputs": [
    {
     "data": {
      "image/png": "[encoded data removed]",
      "text/plain": [
       "<Figure size 432x288 with 1 Axes>"
      ]
     },
     "metadata": {
      "needs_background": "light"
     },
     "output_type": "display_data"
    }
   ],
   "source": [
    "#quick review of my variable\n",
    "df_movies['runtime'].plot(kind='hist', title=\"Movie Runtimes\");"
   ]
  },
  {
   "cell_type": "code",
   "execution_count": 71,
   "id": "e7959f1c",
   "metadata": {},
   "outputs": [
    {
     "data": {
      "text/html": [
       "<div>\n",
       "<style scoped>\n",
       "    .dataframe tbody tr th:only-of-type {\n",
       "        vertical-align: middle;\n",
       "    }\n",
       "\n",
       "    .dataframe tbody tr th {\n",
       "        vertical-align: top;\n",
       "    }\n",
       "\n",
       "    .dataframe thead th {\n",
       "        text-align: right;\n",
       "    }\n",
       "</style>\n",
       "<table border=\"1\" class=\"dataframe\">\n",
       "  <thead>\n",
       "    <tr style=\"text-align: right;\">\n",
       "      <th></th>\n",
       "      <th>popularity</th>\n",
       "      <th>budget</th>\n",
       "      <th>revenue</th>\n",
       "      <th>original_title</th>\n",
       "      <th>cast</th>\n",
       "      <th>director</th>\n",
       "      <th>keywords</th>\n",
       "      <th>runtime</th>\n",
       "      <th>genres</th>\n",
       "      <th>production_companies</th>\n",
       "      <th>release_date</th>\n",
       "      <th>vote_count</th>\n",
       "      <th>vote_average</th>\n",
       "      <th>release_year</th>\n",
       "      <th>budget_adj</th>\n",
       "      <th>revenue_adj</th>\n",
       "      <th>release_decade</th>\n",
       "      <th>popularity_level</th>\n",
       "      <th>movie_length</th>\n",
       "    </tr>\n",
       "  </thead>\n",
       "  <tbody>\n",
       "    <tr>\n",
       "      <th>0</th>\n",
       "      <td>32.985763</td>\n",
       "      <td>150000000</td>\n",
       "      <td>1513528810</td>\n",
       "      <td>Jurassic World</td>\n",
       "      <td>Chris Pratt|Bryce Dallas Howard|Irrfan Khan|Vi...</td>\n",
       "      <td>Colin Trevorrow</td>\n",
       "      <td>monster|dna|tyrannosaurus rex|velociraptor|island</td>\n",
       "      <td>124.0</td>\n",
       "      <td>Action|Adventure|Science Fiction|Thriller</td>\n",
       "      <td>Universal Studios|Amblin Entertainment|Legenda...</td>\n",
       "      <td>6/9/2015</td>\n",
       "      <td>5562</td>\n",
       "      <td>6.5</td>\n",
       "      <td>2015</td>\n",
       "      <td>137999939.3</td>\n",
       "      <td>1.392446e+09</td>\n",
       "      <td>2010s</td>\n",
       "      <td>High</td>\n",
       "      <td>long</td>\n",
       "    </tr>\n",
       "  </tbody>\n",
       "</table>\n",
       "</div>"
      ],
      "text/plain": [
       "   popularity     budget     revenue  original_title  \\\n",
       "0   32.985763  150000000  1513528810  Jurassic World   \n",
       "\n",
       "                                                cast         director  \\\n",
       "0  Chris Pratt|Bryce Dallas Howard|Irrfan Khan|Vi...  Colin Trevorrow   \n",
       "\n",
       "                                            keywords  runtime  \\\n",
       "0  monster|dna|tyrannosaurus rex|velociraptor|island    124.0   \n",
       "\n",
       "                                      genres  \\\n",
       "0  Action|Adventure|Science Fiction|Thriller   \n",
       "\n",
       "                                production_companies release_date  vote_count  \\\n",
       "0  Universal Studios|Amblin Entertainment|Legenda...     6/9/2015        5562   \n",
       "\n",
       "   vote_average  release_year   budget_adj   revenue_adj release_decade  \\\n",
       "0           6.5          2015  137999939.3  1.392446e+09          2010s   \n",
       "\n",
       "  popularity_level movie_length  \n",
       "0             High         long  "
      ]
     },
     "execution_count": 71,
     "metadata": {},
     "output_type": "execute_result"
    }
   ],
   "source": [
    "#Here I create a new measure for the movie runtimes\n",
    "bin_edges=[0,90,99,111,900]\n",
    "bin_names=['short', 'medium', 'moderately long', 'long']\n",
    "df_movies['movie_length']=pd.cut(df_movies['runtime'], bin_edges, labels=bin_names)\n",
    "df_movies.head(1) #testing what it looks like"
   ]
  },
  {
   "cell_type": "code",
   "execution_count": 72,
   "id": "f22505c2",
   "metadata": {},
   "outputs": [
    {
     "data": {
      "text/plain": [
       "short              2931\n",
       "long               2710\n",
       "medium             2651\n",
       "moderately long    2573\n",
       "Name: movie_length, dtype: int64"
      ]
     },
     "execution_count": 72,
     "metadata": {},
     "output_type": "execute_result"
    }
   ],
   "source": [
    "#How many of each movie length type\n",
    "df_movies['movie_length'].value_counts()"
   ]
  },
  {
   "cell_type": "markdown",
   "id": "95382a69",
   "metadata": {},
   "source": [
    "> The number of films fall fairly evenly into each category of length"
   ]
  },
  {
   "cell_type": "code",
   "execution_count": 73,
   "id": "6e4b31bb",
   "metadata": {},
   "outputs": [
    {
     "data": {
      "text/plain": [
       "short              26.976530\n",
       "long               24.942476\n",
       "medium             24.399448\n",
       "moderately long    23.681546\n",
       "Name: movie_length, dtype: float64"
      ]
     },
     "execution_count": 73,
     "metadata": {},
     "output_type": "execute_result"
    }
   ],
   "source": [
    "#As percentages to confirm my impression\n",
    "(df_movies['movie_length'].value_counts()/df_movies['movie_length'].value_counts().sum())*100"
   ]
  },
  {
   "cell_type": "markdown",
   "id": "e62e84b5",
   "metadata": {},
   "source": [
    "> Is there a relationship between movie length and revenue?"
   ]
  },
  {
   "cell_type": "code",
   "execution_count": 75,
   "id": "7b8673bf",
   "metadata": {},
   "outputs": [
    {
     "data": {
      "text/plain": [
       "movie_length\n",
       "short              1.035472e+08\n",
       "medium             9.980478e+07\n",
       "moderately long    1.009606e+08\n",
       "long               1.559853e+08\n",
       "Name: revenue_adj, dtype: float64"
      ]
     },
     "execution_count": 75,
     "metadata": {},
     "output_type": "execute_result"
    }
   ],
   "source": [
    "#Calculating means for each length type\n",
    "runtime_revenue_means = df_movies.groupby('movie_length')['revenue_adj'].mean()\n",
    "runtime_revenue_means"
   ]
  },
  {
   "cell_type": "code",
   "execution_count": 108,
   "id": "0bab960c",
   "metadata": {},
   "outputs": [
    {
     "data": {
      "text/plain": [
       "['short', 'moderately long', 'medium', 'long']"
      ]
     },
     "execution_count": 108,
     "metadata": {},
     "output_type": "execute_result"
    }
   ],
   "source": [
    "#creating a list of labels\n",
    "movie_lengths = list(df_movies['movie_length'].unique().dropna())\n",
    "movie_lengths.sort(reverse=True)\n",
    "movie_lengths"
   ]
  },
  {
   "cell_type": "code",
   "execution_count": 109,
   "id": "cd6e6b6d",
   "metadata": {},
   "outputs": [
    {
     "data": {
      "image/png": "[encoded data removed]",
      "text/plain": [
       "<Figure size 432x288 with 1 Axes>"
      ]
     },
     "metadata": {
      "needs_background": "light"
     },
     "output_type": "display_data"
    }
   ],
   "source": [
    "#running my function\n",
    "bar_plot([1,2,3,4], runtime_revenue_means, movie_lengths,'Film Runtime', \n",
    "         'Mean Adjusted Revenue in 2010 Dollars', 'Mean Adjusted Revenue by Film Runtime')"
   ]
  },
  {
   "cell_type": "markdown",
   "id": "c8925e22",
   "metadata": {},
   "source": [
    "> __Thought:__ Again, using this kind of visualization is a great way to see where difference exists. A pie chart might also be an interesting visual for this output, as well; particularly since there is one value much greater than the rest. I a little suprrised by the result. There is clearly a jump in revenue for \"long\" films. \"Long\" films are at least 1 hour and 51 minutes long."
   ]
  },
  {
   "cell_type": "markdown",
   "id": "b9db27a3",
   "metadata": {},
   "source": [
    "__4. Are high revenue (adj) films highly rated?__\n",
    "\n",
    "> Just because a movie makes a lot of money - does it mean that it's also highly rated?"
   ]
  },
  {
   "cell_type": "code",
   "execution_count": 111,
   "id": "fbf9e401",
   "metadata": {},
   "outputs": [
    {
     "data": {
      "text/plain": [
       "count    10865.000000\n",
       "mean         5.975012\n",
       "std          0.935138\n",
       "min          1.500000\n",
       "25%          5.400000\n",
       "50%          6.000000\n",
       "75%          6.600000\n",
       "max          9.200000\n",
       "Name: vote_average, dtype: float64"
      ]
     },
     "execution_count": 111,
     "metadata": {},
     "output_type": "execute_result"
    }
   ],
   "source": [
    "#Descriptive stats for the variable\n",
    "df_movies['vote_average'].describe()"
   ]
  },
  {
   "cell_type": "markdown",
   "id": "d88c8e32",
   "metadata": {},
   "source": [
    "> After looking at the descriptive stats for 'vote average', these values are a little more unclear at first glance. Some descriptive language might make the values have more meaning to readers."
   ]
  },
  {
   "cell_type": "code",
   "execution_count": 145,
   "id": "4f2e9476",
   "metadata": {},
   "outputs": [
    {
     "data": {
      "image/png": "[encoded data removed]",
      "text/plain": [
       "<Figure size 432x288 with 1 Axes>"
      ]
     },
     "metadata": {
      "needs_background": "light"
     },
     "output_type": "display_data"
    }
   ],
   "source": [
    "#more context for my analysis\n",
    "df_movies['vote_average'].plot(kind='hist', title=\"Vote Averages\");"
   ]
  },
  {
   "cell_type": "code",
   "execution_count": 112,
   "id": "934c8e6d",
   "metadata": {},
   "outputs": [
    {
     "data": {
      "text/html": [
       "<div>\n",
       "<style scoped>\n",
       "    .dataframe tbody tr th:only-of-type {\n",
       "        vertical-align: middle;\n",
       "    }\n",
       "\n",
       "    .dataframe tbody tr th {\n",
       "        vertical-align: top;\n",
       "    }\n",
       "\n",
       "    .dataframe thead th {\n",
       "        text-align: right;\n",
       "    }\n",
       "</style>\n",
       "<table border=\"1\" class=\"dataframe\">\n",
       "  <thead>\n",
       "    <tr style=\"text-align: right;\">\n",
       "      <th></th>\n",
       "      <th>popularity</th>\n",
       "      <th>budget</th>\n",
       "      <th>revenue</th>\n",
       "      <th>original_title</th>\n",
       "      <th>cast</th>\n",
       "      <th>director</th>\n",
       "      <th>keywords</th>\n",
       "      <th>runtime</th>\n",
       "      <th>genres</th>\n",
       "      <th>production_companies</th>\n",
       "      <th>release_date</th>\n",
       "      <th>vote_count</th>\n",
       "      <th>vote_average</th>\n",
       "      <th>release_year</th>\n",
       "      <th>budget_adj</th>\n",
       "      <th>revenue_adj</th>\n",
       "      <th>release_decade</th>\n",
       "      <th>popularity_level</th>\n",
       "      <th>movie_length</th>\n",
       "      <th>voting_score</th>\n",
       "    </tr>\n",
       "  </thead>\n",
       "  <tbody>\n",
       "    <tr>\n",
       "      <th>0</th>\n",
       "      <td>32.985763</td>\n",
       "      <td>150000000</td>\n",
       "      <td>1513528810</td>\n",
       "      <td>Jurassic World</td>\n",
       "      <td>Chris Pratt|Bryce Dallas Howard|Irrfan Khan|Vi...</td>\n",
       "      <td>Colin Trevorrow</td>\n",
       "      <td>monster|dna|tyrannosaurus rex|velociraptor|island</td>\n",
       "      <td>124.0</td>\n",
       "      <td>Action|Adventure|Science Fiction|Thriller</td>\n",
       "      <td>Universal Studios|Amblin Entertainment|Legenda...</td>\n",
       "      <td>6/9/2015</td>\n",
       "      <td>5562</td>\n",
       "      <td>6.5</td>\n",
       "      <td>2015</td>\n",
       "      <td>137999939.3</td>\n",
       "      <td>1.392446e+09</td>\n",
       "      <td>2010s</td>\n",
       "      <td>High</td>\n",
       "      <td>long</td>\n",
       "      <td>moderately high</td>\n",
       "    </tr>\n",
       "  </tbody>\n",
       "</table>\n",
       "</div>"
      ],
      "text/plain": [
       "   popularity     budget     revenue  original_title  \\\n",
       "0   32.985763  150000000  1513528810  Jurassic World   \n",
       "\n",
       "                                                cast         director  \\\n",
       "0  Chris Pratt|Bryce Dallas Howard|Irrfan Khan|Vi...  Colin Trevorrow   \n",
       "\n",
       "                                            keywords  runtime  \\\n",
       "0  monster|dna|tyrannosaurus rex|velociraptor|island    124.0   \n",
       "\n",
       "                                      genres  \\\n",
       "0  Action|Adventure|Science Fiction|Thriller   \n",
       "\n",
       "                                production_companies release_date  vote_count  \\\n",
       "0  Universal Studios|Amblin Entertainment|Legenda...     6/9/2015        5562   \n",
       "\n",
       "   vote_average  release_year   budget_adj   revenue_adj release_decade  \\\n",
       "0           6.5          2015  137999939.3  1.392446e+09          2010s   \n",
       "\n",
       "  popularity_level movie_length     voting_score  \n",
       "0             High         long  moderately high  "
      ]
     },
     "execution_count": 112,
     "metadata": {},
     "output_type": "execute_result"
    }
   ],
   "source": [
    "#again, creating descriptive values by defining bin edges and cutting the data into my new measures.\n",
    "bin_edges=[1.5, 5.4,6.0,6.6,9.2]\n",
    "bin_names=['low', 'medium', 'moderately high', 'high']\n",
    "df_movies['voting_score']=pd.cut(df_movies['vote_average'], bin_edges, labels=bin_names)\n",
    "df_movies.head(1)"
   ]
  },
  {
   "cell_type": "code",
   "execution_count": 113,
   "id": "579e1d65",
   "metadata": {},
   "outputs": [
    {
     "data": {
      "text/plain": [
       "voting_score\n",
       "low                0.420572\n",
       "medium             0.555395\n",
       "moderately high    0.705920\n",
       "high               0.930673\n",
       "Name: popularity, dtype: float64"
      ]
     },
     "execution_count": 113,
     "metadata": {},
     "output_type": "execute_result"
    }
   ],
   "source": [
    "#creating means\n",
    "vote_values_means = df_movies.groupby('voting_score')['popularity'].mean()\n",
    "vote_values_means"
   ]
  },
  {
   "cell_type": "code",
   "execution_count": 120,
   "id": "bff0a41d",
   "metadata": {},
   "outputs": [
    {
     "data": {
      "text/plain": [
       "['low', 'medium', 'moderately high', 'high']"
      ]
     },
     "execution_count": 120,
     "metadata": {},
     "output_type": "execute_result"
    }
   ],
   "source": [
    "#creating a list of labels\n",
    "scores = ['low', 'medium', 'moderately high', 'high']\n",
    "scores"
   ]
  },
  {
   "cell_type": "code",
   "execution_count": 121,
   "id": "46f137fb",
   "metadata": {},
   "outputs": [
    {
     "data": {
      "image/png": "[encoded data removed]",
      "text/plain": [
       "<Figure size 432x288 with 1 Axes>"
      ]
     },
     "metadata": {
      "needs_background": "light"
     },
     "output_type": "display_data"
    }
   ],
   "source": [
    "#running my function\n",
    "bar_plot([1,2,3,4], vote_values_means, scores,'Voting Scores', \n",
    "         'Popularity', 'Relationship Between Voting Scores and Popularity')"
   ]
  },
  {
   "cell_type": "markdown",
   "id": "6a935254",
   "metadata": {},
   "source": [
    "> __Thought:__ A detailed bar chart shows the relationship between voting scores (ratings) and popularity. It's a clear trend indicating that popular films are highly rated by audiences. Does the same trend hold with another kind of visual?"
   ]
  },
  {
   "cell_type": "code",
   "execution_count": 146,
   "id": "5c6bed14",
   "metadata": {},
   "outputs": [
    {
     "data": {
      "text/plain": [
       "Text(0, 0.5, 'Popularity')"
      ]
     },
     "execution_count": 146,
     "metadata": {},
     "output_type": "execute_result"
    },
    {
     "data": {
      "image/png": "[encoded data removed]",
      "text/plain": [
       "<Figure size 432x288 with 1 Axes>"
      ]
     },
     "metadata": {
      "needs_background": "light"
     },
     "output_type": "display_data"
    }
   ],
   "source": [
    "#Scatter\n",
    "popularity_plot = df_movies.plot(x='vote_average', y='popularity',\n",
    "                                 title=\"Vote Average and Popularity\", kind='scatter');\n",
    "popularity_plot.set_xlabel('Vote Average')\n",
    "popularity_plot.set_ylabel('Popularity')"
   ]
  },
  {
   "cell_type": "markdown",
   "id": "f6924bd9",
   "metadata": {},
   "source": [
    "> The trend holds within a scatter plot; while this kind of chart shows the outliers, the data clearly shows a positive relationship between vote average and popularity."
   ]
  },
  {
   "cell_type": "markdown",
   "id": "ae52c0f6",
   "metadata": {},
   "source": [
    "___"
   ]
  },
  {
   "cell_type": "markdown",
   "id": "5d34a725",
   "metadata": {},
   "source": [
    "<a id='conclusions'></a>\n",
    "## Conclusions"
   ]
  },
  {
   "cell_type": "markdown",
   "id": "c2736dc8",
   "metadata": {},
   "source": [
    "__1. Has film revenue changed over time?__\n",
    "\n",
    "Yes, absolutely. I found it particularly interesting that the _number_ of films being made has increased, but the revenue is down. Movies released in the 1960s and 1970s were fewer in number but earned more at the boxoffice. Why?\n",
    "\n",
    "* Fewer TVs? Less at-home entertainment could explain why revenue was higher in teh 1960s and 1970s.\n",
    "* The rise of the VHS in the 1980s and the prevalence of at-home movie consumption in the 1990s and 2000s could explain the drop in revenue despite the increased number of film releases.\n",
    "\n",
    "> Limitation: I am making an educated guess as to why films brought in higher revenue in the 1960s and 1970s. An additonal dataset with information about at-home entertainment systems would be an interesting evaluation. Is there a correlation? \n",
    "\n",
    "> Limitation: Were people going to the movies more often back in teh 1960s and 1970s? This dataset may record \"popularity\" but it doesn't necessarily indicate how may people attended these movies."
   ]
  },
  {
   "cell_type": "markdown",
   "id": "913d1110",
   "metadata": {},
   "source": [
    "__2. Are high revenue films more popular than low revenue films?__\n",
    "\n",
    "As expected, yes, high revenue films are popular films. It is an easy assumption to make that, if people like a film, they will invest in it more, either by seeing it in the theatre multiple times and/or purchasing the film.\n",
    "\n",
    "> Limitation: high revenue films are popular, but are popular films high earners? It would be a good idea to confirm this. Are both variables predictors of the other?\n",
    "\n",
    "> Limitation: the variable \"popularity\" is a somewhat vague variable and I could not find much information online about how TMDb defines popularity. Is it the number of people who see the film? The number of times it plays? How many copies of the film people buy? How long the film is in theatres? Or is it another measure? While the relationship between popularity and revenue doesn't change, the meaning of the results could change if the variable is more clearly defined."
   ]
  },
  {
   "cell_type": "markdown",
   "id": "302a1356",
   "metadata": {},
   "source": [
    "__3. Is there a positive relationship between runtime and revenue?__\n",
    "\n",
    "There is a positive relationship between runtime and revenue. You can clearly see in the bar graph how much higher revenue is for the \"long\" film runtime.\n",
    "\n",
    "* I was surprised by this result at first, as I wasn't sure there would be a well-defined relationship at all.\n",
    "* I also expected that if there was a relationship, I didn't think long films would necessarily be popular.\n",
    "\n",
    "> Limitations: Time is relative and subjective. Using runtime as a variable may be useful in determining the minimum and maximum film runtime to get the most return on investment, but people's definitions of a \"long\" or \"short\" film may vary. \n",
    "\n",
    "> Liminations: After looking at the data more closely, 111 minutes (1 hour 51 minutes) isn't really that long (to me). As I mentioned above, movie time length can be subjective and others may think a 2 hour film is long. If I did this analysis again, I might categorize the lengths differently or change the minute runtime into hour runtimes."
   ]
  },
  {
   "cell_type": "markdown",
   "id": "a58ace80",
   "metadata": {},
   "source": [
    "__4. Are high revenue films highly rated?__\n",
    "\n",
    "Yes, high revenue films also receive high ratings. I was a little surprised at these findings; just because a movie brings in a lot of money doesn't automatically make it a \"good\" film. Then again, this is a subjective measure. \n",
    "\n",
    ">Limitations: Just like with the \"popularity\" variable, TMDb doesn't define \"average rating\" in this dataset. I made the assumption that it was a film rating."
   ]
  },
  {
   "cell_type": "markdown",
   "id": "78e3354c",
   "metadata": {},
   "source": [
    "## Final Thoughts\n",
    "\n",
    "This dataset was very interesting to work with and there are many ways to measure the characteristics of a high revenue film than the ones I used. If I were to do this project over, I would re-consider some of the variables I chose to evaluate my questions. The dataset could be improved with more information about some of the variables, such as popularity and average ratings. While the lack of a definition doesn't affect the calculations, it can affect the story I tell with the data. "
   ]
  }
 ],
 "metadata": {
  "kernelspec": {
   "display_name": "Python 3 (ipykernel)",
   "language": "python",
   "name": "python3"
  },
  "language_info": {
   "codemirror_mode": {
    "name": "ipython",
    "version": 3
   },
   "file_extension": ".py",
   "mimetype": "text/x-python",
   "name": "python",
   "nbconvert_exporter": "python",
   "pygments_lexer": "ipython3",
   "version": "3.9.7"
  }
 },
 "nbformat": 4,
 "nbformat_minor": 5
}
